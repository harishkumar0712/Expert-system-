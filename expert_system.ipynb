{
  "nbformat": 4,
  "nbformat_minor": 0,
  "metadata": {
    "colab": {
      "provenance": [],
      "authorship_tag": "ABX9TyMN8n0+Hf+5wzWR0peV9YI0",
      "include_colab_link": true
    },
    "kernelspec": {
      "name": "python3",
      "display_name": "Python 3"
    },
    "language_info": {
      "name": "python"
    }
  },
  "cells": [
    {
      "cell_type": "markdown",
      "metadata": {
        "id": "view-in-github",
        "colab_type": "text"
      },
      "source": [
        "<a href=\"https://colab.research.google.com/github/harishkumar0712/Expert-system-/blob/main/expert_system.ipynb\" target=\"_parent\"><img src=\"https://colab.research.google.com/assets/colab-badge.svg\" alt=\"Open In Colab\"/></a>"
      ]
    },
    {
      "cell_type": "code",
      "source": [
        "name= input(\"Enter you Name :\")\n",
        "print(\"hello\",name+ \"!\")\n",
        "print(\"What kind of food do you prefer\")\n",
        "option1=print(\"1. Energy giving food\")\n",
        "option2=print(\"2. Body buliding food\")\n",
        "option3=print(\"3. Protective food\")\n",
        "wish= input(\"Enter your choice :\")\n",
        "if(wish==option1):\n",
        "  print(\"you selected Energy giving food\")\n",
        "  part4=('chocolates')\n",
        "  part5=('vegetables & fruits')\n",
        "  print(\"Energy giving foods consists of 1. chocolates 2. vegetables & fruits\")\n",
        "  choice_2=input(\"what do you prefer??\")\n",
        "  if(choice_2==part4):\n",
        "    print(\"you have choosen chocolates, this tshows you love sweets ,but during your proper diet avoid eating more chocolates.\")\n",
        "    print(\"THANK YOU\")\n",
        "  if(choice_2== part5):\n",
        "    print(\"You have choose vegetables and fruits, this shows you prefer proper diet and healthy food ,follow the same and stay healthy. \")\n",
        "    print(\"THANK YOU\");\n",
        "\n",
        "if(wish==option2):\n",
        "  print(\"You selected Body building food\")\n",
        "  list6=('carbohydrates')\n",
        "  list7=('protiens')\n",
        "  print(\"Body buliding foods consist of 1.Carbohydrates 2.Protiens\")\n",
        "  choice3=input(\"What do you prefer?\")\n",
        "  if(choice3==list6):\n",
        "    print(\"You have choosen cahrbohydrates , this shows you want to build your body in bulky way and all the best for that !!!\")\n",
        "    print(\"THAN YOU\") \n",
        "  if(choice3==list7):\n",
        "    print(\"YOu have chosen protiens , this shows you want to build your body in defined way and all the best fro that !!!\" )\n",
        "    print(\"THAN YOU\")\n",
        "if(wish==option3):  \n",
        "  print(\"you selected protective food\")\n",
        "  print(\"Protective food basically consist of all vegetables and fruits which stimulates your immune system so if you have protective food incluse more minerals and vitamins to keep yourself fit \")\n",
        "  print(\"THANK YOU\")\n",
        "\n",
        "else:\n",
        "  print(\"wrong option\")\n",
        "\n",
        "\n",
        "\n",
        "\n",
        "\n",
        "\n",
        "\n"
      ],
      "metadata": {
        "colab": {
          "base_uri": "https://localhost:8080/"
        },
        "id": "gRB0FjpRCqH3",
        "outputId": "c123386e-4c9a-4fe4-df81-84a209640f4d"
      },
      "execution_count": 2,
      "outputs": [
        {
          "output_type": "stream",
          "name": "stdout",
          "text": [
            "Enter you Name :harish\n",
            "hello harish!\n",
            "What kind of food do you prefer\n",
            "1. Energy giving food\n",
            "2. Body buliding food\n",
            "3. Protective food\n",
            "Enter your choice :3. Protective food\n",
            "wrong option\n"
          ]
        }
      ]
    }
  ]
}